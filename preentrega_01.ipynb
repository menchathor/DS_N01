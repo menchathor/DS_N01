{
 "cells": [
  {
   "cell_type": "markdown",
   "metadata": {},
   "source": [
    "# PREENTREGA NÚMERO 01\n",
    "#### Comisión 61600\n",
    "#### Data Science I - Fundamentos para la Ciencia de Datos\n",
    "\n",
    "#### Alumno: Michael Meneses Mora\n",
    "#### Dataset: Estadisticas del universo Pokémon"
   ]
  },
  {
   "cell_type": "markdown",
   "metadata": {},
   "source": [
    "## ABSTRACT\n",
    "\n",
    "### Resumen:\n",
    "##### El análisis realizado se centra en entender más en profundidad como se componen las estadísticas de cada Pokémon. Comprender su naturaleza, sus atríbutos y como se comparta respecto a sus pares. Los atributos considerados serán \"Tipo principal\", \"Tipo secundario\", \"Ataque\", \"Velocidad\", \"Defensa\", entre otros.\n",
    "\n",
    "### Hipótesis planteada:\n",
    "##### A partir del dataset en analisis queremos entender los atributos de cada integrante\n",
    "+ Visualizar sus estadísticas\n",
    "+ Identificar al más poderoso\n",
    "+ Conocer los tipos principales y secundario\n",
    "\n",
    "#### Objetivos:\n",
    "+ ¿Cómo se distribuyen los Pokémon por tipo?\n",
    "+ ¿Cómo están distribuidas las generaciones por cantidad de integrantes?\n",
    "+ ¿Cúal es el tipo que está más presente en cada generación?\n",
    "+ "
   ]
  }
 ],
 "metadata": {
  "language_info": {
   "name": "python"
  }
 },
 "nbformat": 4,
 "nbformat_minor": 2
}
