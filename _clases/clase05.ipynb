{
 "cells": [
  {
   "cell_type": "code",
   "execution_count": 1,
   "metadata": {},
   "outputs": [
    {
     "name": "stdout",
     "output_type": "stream",
     "text": [
      "El valor total del arreglo es: 320 \n",
      "\n",
      "El promedio del arreglo es: 45.714285714285715\n"
     ]
    }
   ],
   "source": [
    "list = [20,60,40,80,60,50,10]\n",
    "a = 0\n",
    "for i in list:\n",
    "    a += i\n",
    "b = a/len(list)\n",
    "\n",
    "print(f\"El valor total del arreglo es: {a} \\n\");\n",
    "print(f\"El promedio del arreglo es: {b}\");"
   ]
  }
 ],
 "metadata": {
  "kernelspec": {
   "display_name": "env",
   "language": "python",
   "name": "python3"
  },
  "language_info": {
   "codemirror_mode": {
    "name": "ipython",
    "version": 3
   },
   "file_extension": ".py",
   "mimetype": "text/x-python",
   "name": "python",
   "nbconvert_exporter": "python",
   "pygments_lexer": "ipython3",
   "version": "3.10.9"
  }
 },
 "nbformat": 4,
 "nbformat_minor": 2
}
